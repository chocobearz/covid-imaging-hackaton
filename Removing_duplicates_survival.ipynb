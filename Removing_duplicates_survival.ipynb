{
  "cells": [
    {
      "cell_type": "markdown",
      "metadata": {
        "id": "view-in-github",
        "colab_type": "text"
      },
      "source": [
        "<a href=\"https://colab.research.google.com/github/chocobearz/covid-imaging-hackaton/blob/master/Removing_duplicates_survival.ipynb\" target=\"_parent\"><img src=\"https://colab.research.google.com/assets/colab-badge.svg\" alt=\"Open In Colab\"/></a>"
      ]
    },
    {
      "cell_type": "code",
      "metadata": {
        "id": "itGIb34sleD7",
        "colab_type": "code",
        "colab": {}
      },
      "source": [
        "import pandas as pd\n",
        "metadata = pd.read_csv('https://raw.githubusercontent.com/chocobearz/covid-imaging-hackaton/master/metadata.csv')"
      ],
      "execution_count": 6,
      "outputs": []
    },
    {
      "cell_type": "code",
      "metadata": {
        "id": "TxenzktFp0DH",
        "colab_type": "code",
        "colab": {
          "base_uri": "https://localhost:8080/",
          "height": 34
        },
        "outputId": "b506dc9f-d42b-4509-bfc2-bd4e7b4ca49a"
      },
      "source": [
        "metadata['patientid'].nunique()"
      ],
      "execution_count": 7,
      "outputs": [
        {
          "output_type": "execute_result",
          "data": {
            "text/plain": "387"
          },
          "metadata": {},
          "execution_count": 7
        }
      ]
    },
    {
      "cell_type": "code",
      "metadata": {
        "id": "pbwVCKdgrCg8",
        "colab_type": "code",
        "colab": {
          "base_uri": "https://localhost:8080/",
          "height": 1000
        },
        "outputId": "1e721d6e-cad5-4674-bb29-9031db331940",
        "tags": []
      },
      "source": [
        "unique_metadata = metadata.drop_duplicates(subset=\"patientid\", keep=\"last\")\n",
        "print(unique_metadata.shape)\n",
        "#df1s"
      ],
      "execution_count": 8,
      "outputs": [
        {
          "output_type": "stream",
          "name": "stdout",
          "text": "(387, 29)\n"
        }
      ]
    },
    {
      "cell_type": "code",
      "execution_count": 10,
      "metadata": {
        "tags": []
      },
      "outputs": [
        {
          "output_type": "stream",
          "name": "stdout",
          "text": "(284, 29)\n"
        }
      ],
      "source": [
        "is_covid = unique_metadata['finding']=='COVID-19'\n",
        "only_covid_metadata = unique_metadata[is_covid]\n",
        "print(only_covid_metadata.shape)\n",
        "#print(df1s['finding'])\n",
        "#print(df1s)"
      ]
    },
    {
      "cell_type": "code",
      "metadata": {
        "id": "irnyT0OcrN8w",
        "colab_type": "code",
        "colab": {
          "base_uri": "https://localhost:8080/",
          "height": 68
        },
        "outputId": "25467d93-0401-4539-9344-54e528ccbd7b",
        "tags": []
      },
      "source": [
        "print(only_covid_metadata['sex'].count())\n",
        "print(only_covid_metadata['age'].count())\n",
        "print(only_covid_metadata['finding'].count())\n",
        "print(only_covid_metadata['survival'].count())"
      ],
      "execution_count": 11,
      "outputs": [
        {
          "output_type": "stream",
          "name": "stdout",
          "text": "251\n206\n284\n77\n"
        }
      ]
    },
    {
      "cell_type": "code",
      "execution_count": 12,
      "metadata": {
        "tags": []
      },
      "outputs": [
        {
          "output_type": "stream",
          "name": "stdout",
          "text": "(77, 29)\n"
        }
      ],
      "source": [
        "measured = [\"Y\",\"N\"]\n",
        "no_NA_metadata = only_covid_metadata[only_covid_metadata.survival.isin(measured)]\n",
        "print(no_NA_metadata.shape)\n",
        "#print(df1s['survival'])\n",
        "#print(df1s)"
      ]
    },
    {
      "cell_type": "code",
      "execution_count": 30,
      "metadata": {
        "tags": []
      },
      "outputs": [],
      "source": [
        "good_cols = no_NA_metadata[['sex', 'age', 'survival', 'intubated', 'location', 'temperature', 'pO2_saturation', 'leukocyte_count', 'neutrophil_count', 'lymphocyte_count']]\n",
        "#print(good_cols.shape)"
      ]
    },
    {
      "cell_type": "code",
      "execution_count": 57,
      "metadata": {},
      "outputs": [],
      "source": [
        "dummysex = pd.get_dummies(good_cols['sex'])\n",
        "dummysurvival = pd.get_dummies(good_cols['survival'])\n",
        "dummyintubated = pd.get_dummies(good_cols['intubated'])\n",
        "dummylocation = pd.get_dummies(good_cols['location'])"
      ]
    },
    {
      "cell_type": "code",
      "execution_count": 13,
      "metadata": {
        "tags": []
      },
      "outputs": [],
      "source": [
        "#print(dummysex)\n",
        "#print(dummysurvival)\n",
        "#print(dummyintubated)\n",
        "#print(dummylocation)"
      ]
    },
    {
      "cell_type": "code",
      "execution_count": 16,
      "metadata": {
        "tags": []
      },
      "outputs": [
        {
          "output_type": "error",
          "ename": "NameError",
          "evalue": "name 'dummysex' is not defined",
          "traceback": [
            "\u001b[1;31m---------------------------------------------------------------------------\u001b[0m",
            "\u001b[1;31mNameError\u001b[0m                                 Traceback (most recent call last)",
            "\u001b[1;32m<ipython-input-16-a2db52f49582>\u001b[0m in \u001b[0;36m<module>\u001b[1;34m\u001b[0m\n\u001b[1;32m----> 1\u001b[1;33m \u001b[0mfinal_clean_one_hot\u001b[0m \u001b[1;33m=\u001b[0m \u001b[0mpd\u001b[0m\u001b[1;33m.\u001b[0m\u001b[0mconcat\u001b[0m\u001b[1;33m(\u001b[0m\u001b[1;33m[\u001b[0m\u001b[0mgood_cols\u001b[0m\u001b[1;33m,\u001b[0m \u001b[0mdummysex\u001b[0m\u001b[1;33m,\u001b[0m\u001b[0mdummyintubated\u001b[0m\u001b[1;33m,\u001b[0m\u001b[0mdummylocation\u001b[0m\u001b[1;33m,\u001b[0m\u001b[0mdummysurvival\u001b[0m\u001b[1;33m]\u001b[0m\u001b[1;33m,\u001b[0m \u001b[0maxis\u001b[0m \u001b[1;33m=\u001b[0m \u001b[1;36m1\u001b[0m\u001b[1;33m)\u001b[0m\u001b[1;33m\u001b[0m\u001b[1;33m\u001b[0m\u001b[0m\n\u001b[0m",
            "\u001b[1;31mNameError\u001b[0m: name 'dummysex' is not defined"
          ]
        }
      ],
      "source": [
        "final_clean_one_hot = pd.concat([good_cols, dummysex,dummyintubated,dummylocation,dummysurvival], axis = 1)"
      ]
    },
    {
      "cell_type": "code",
      "execution_count": 33,
      "metadata": {
        "tags": []
      },
      "outputs": [],
      "source": [
        "new = good_cols.replace(['Y','N','M','F', 'NaN'], [1, 0, 1, 0, 'NaN'])"
      ]
    },
    {
      "cell_type": "code",
      "execution_count": 32,
      "metadata": {
        "tags": []
      },
      "outputs": [],
      "source": [
        "locations = good_cols.location.unique()\n",
        "for i, location in enumerate(locations):\n",
        "  new = new.replace([location], [i])"
      ]
    },
    {
      "cell_type": "code",
      "execution_count": 28,
      "metadata": {
        "tags": []
      },
      "outputs": [
        {
          "output_type": "stream",
          "name": "stdout",
          "text": "3       N\n20     13\n21     13\n28      N\n33     13\n       ..\n633     N\n650     N\n655     N\n656    13\n657     N\nName: intubated, Length: 77, dtype: object\n"
        }
      ],
      "source": [
        "print(good_cols['intubated'])"
      ]
    },
    {
      "cell_type": "code",
      "execution_count": null,
      "metadata": {},
      "outputs": [],
      "source": []
    }
  ],
  "metadata": {
    "colab": {
      "name": "Untitled2.ipynb",
      "provenance": [],
      "collapsed_sections": [],
      "authorship_tag": "ABX9TyMdHuIlF1pYJcgU7FvGSDIh",
      "include_colab_link": true
    },
    "kernelspec": {
      "name": "python3",
      "display_name": "Python 3"
    }
  },
  "nbformat": 4,
  "nbformat_minor": 0
}